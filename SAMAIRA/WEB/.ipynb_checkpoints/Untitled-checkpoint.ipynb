{
 "cells": [
  {
   "cell_type": "code",
   "execution_count": 1,
   "id": "732f4209",
   "metadata": {},
   "outputs": [
    {
     "name": "stdout",
     "output_type": "stream",
     "text": [
      "Requirement already satisfied: Pillow in /Users/adityakhuntia/anaconda3/lib/python3.11/site-packages (9.4.0)\n",
      "Note: you may need to restart the kernel to use updated packages.\n"
     ]
    }
   ],
   "source": [
    "pip install Pillow"
   ]
  },
  {
   "cell_type": "code",
   "execution_count": 3,
   "id": "ebcfeea3",
   "metadata": {},
   "outputs": [],
   "source": [
    "import os\n",
    "from PIL import Image\n",
    "def convert_and_rename_images(folder_path):\n",
    "    files = sorted(os.listdir(folder_path))\n",
    "    counter = 1  \n",
    "    \n",
    "    for file in files:\n",
    "        file_path = os.path.join(folder_path, file)\n",
    "        if file.lower().endswith('.ipynb'):\n",
    "            pass\n",
    "        elif file.lower().endswith('.png'):\n",
    "            img = Image.open(file_path)\n",
    "            rgb_img = img.convert('RGB')\n",
    "            new_file_path = os.path.join(folder_path, f\"_{counter}.jpg\")\n",
    "            rgb_img.save(new_file_path)\n",
    "            counter += 1\n",
    "            os.remove(file_path)\n",
    "        else:\n",
    "            # For non-PNG files, simply rename them if they are not already JPEG\n",
    "            if not file.lower().endswith('.jpg'):\n",
    "                new_file_path = os.path.join(folder_path, f\"_{counter}.jpg\")\n",
    "                os.rename(file_path, new_file_path)\n",
    "                counter += 1\n",
    "\n",
    "# Replace 'path_to_folder' with the actual path to the folder containing your images\n",
    "convert_and_rename_images('/Users/adityakhuntia/Desktop/WEBSITE/SAMAIRA/WEB')"
   ]
  },
  {
   "cell_type": "code",
   "execution_count": null,
   "id": "596d488a",
   "metadata": {},
   "outputs": [],
   "source": []
  }
 ],
 "metadata": {
  "kernelspec": {
   "display_name": "Python 3 (ipykernel)",
   "language": "python",
   "name": "python3"
  },
  "language_info": {
   "codemirror_mode": {
    "name": "ipython",
    "version": 3
   },
   "file_extension": ".py",
   "mimetype": "text/x-python",
   "name": "python",
   "nbconvert_exporter": "python",
   "pygments_lexer": "ipython3",
   "version": "3.11.5"
  }
 },
 "nbformat": 4,
 "nbformat_minor": 5
}
